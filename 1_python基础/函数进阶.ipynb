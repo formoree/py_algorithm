{
 "cells": [
  {
   "cell_type": "markdown",
   "metadata": {},
   "source": [
    "# 闭包函数"
   ]
  },
  {
   "cell_type": "markdown",
   "metadata": {},
   "source": [
    "## 使用参数传参 "
   ]
  },
  {
   "cell_type": "code",
   "execution_count": 4,
   "metadata": {},
   "outputs": [
    {
     "name": "stdout",
     "output_type": "stream",
     "text": [
      "1\n",
      "1\n",
      "1\n"
     ]
    }
   ],
   "source": [
    "def func(x):\n",
    "    print(x)\n",
    "\n",
    "func(1)\n",
    "func(1)\n",
    "func(1)"
   ]
  },
  {
   "cell_type": "markdown",
   "metadata": {},
   "source": [
    "## 包给函数"
   ]
  },
  {
   "cell_type": "code",
   "execution_count": 6,
   "metadata": {},
   "outputs": [
    {
     "name": "stdout",
     "output_type": "stream",
     "text": [
      "1\n",
      "1\n",
      "1\n",
      "查看闭包元素：<function outter.<locals>.inner at 0x000002B8374D25E8> \n"
     ]
    }
   ],
   "source": [
    "def outter(x):\n",
    "    \n",
    "    #定义inner函数输出x\n",
    "    def inner():\n",
    "        print(x)\n",
    "    return inner\n",
    "\n",
    "f = outter(1)\n",
    "f()\n",
    "f()\n",
    "f()\n",
    "print(f'查看闭包元素：{f} ')"
   ]
  },
  {
   "cell_type": "markdown",
   "metadata": {},
   "source": [
    "## 应用--爬虫"
   ]
  },
  {
   "cell_type": "code",
   "execution_count": 7,
   "metadata": {},
   "outputs": [
    {
     "name": "stdout",
     "output_type": "stream",
     "text": [
      "done: https://www.baidu.com\n",
      "done: https://www.baidu.com\n",
      "done: https://www.baidu.com\n",
      "done: https://www.cnblogs.com/linhaifeng\n",
      "done: https://www.cnblogs.com/linhaifeng\n",
      "done: https://www.cnblogs.com/linhaifeng\n"
     ]
    }
   ],
   "source": [
    "import requests\n",
    "\n",
    "\n",
    "def get(url):\n",
    "    response = requests.get(url)\n",
    "    print(f\"done: {url}\")\n",
    "    \n",
    "get('https://www.baidu.com')\n",
    "get('https://www.baidu.com')\n",
    "get('https://www.baidu.com')\n",
    "\n",
    "\n",
    "get('https://www.cnblogs.com/linhaifeng')\n",
    "get('https://www.cnblogs.com/linhaifeng')\n",
    "get('https://www.cnblogs.com/linhaifeng')"
   ]
  },
  {
   "cell_type": "code",
   "execution_count": 8,
   "metadata": {},
   "outputs": [
    {
     "name": "stdout",
     "output_type": "stream",
     "text": [
      "done: https://www.baidu.com\n",
      "done: https://www.baidu.com\n",
      "done: https://www.python.org\n",
      "done: https://www.python.org\n"
     ]
    }
   ],
   "source": [
    "#对上述代码进行改进  简介明了 简化传参\n",
    "import requests\n",
    "\n",
    "\n",
    "def outter(url):\n",
    "    def get():\n",
    "        response = requests.get(url)\n",
    "        print(f\"done: {url}\")\n",
    "    return get\n",
    "\n",
    "baidu=outter('https://www.baidu.com')\n",
    "python = outter('https://www.python.org')\n",
    "\n",
    "baidu()\n",
    "baidu()\n",
    "\n",
    "python()\n",
    "python()"
   ]
  },
  {
   "cell_type": "markdown",
   "metadata": {},
   "source": [
    "# 装饰器 \n",
    "+ 装饰器的实现必须遵循两大原则：\n",
    "    + 不修改被装饰对象的源代码\n",
    "    + 不修改被装饰对象的调用方式"
   ]
  },
  {
   "cell_type": "markdown",
   "metadata": {},
   "source": [
    "## 无参装饰器 "
   ]
  },
  {
   "cell_type": "code",
   "execution_count": 9,
   "metadata": {},
   "outputs": [
    {
     "name": "stdout",
     "output_type": "stream",
     "text": [
      "welcome to index\n",
      "index run time is -1.0018134117126465\n"
     ]
    }
   ],
   "source": [
    "#我们希望在源代码中加入时间模块\n",
    "import time\n",
    "\n",
    "\n",
    "def index():\n",
    "    start = time.time()\n",
    "    print('welcome to index')\n",
    "    time.sleep(1)\n",
    "    end = time.time()\n",
    "    print(F\"index run time is {start-end}\")\n",
    "\n",
    "\n",
    "index()\n"
   ]
  },
  {
   "cell_type": "code",
   "execution_count": 12,
   "metadata": {},
   "outputs": [
    {
     "name": "stdout",
     "output_type": "stream",
     "text": [
      "welcome to index\n",
      "index run time is -1.0027251243591309\n",
      "welcome to index\n",
      "f2 run time is -1.0008063316345215\n"
     ]
    },
    {
     "data": {
      "text/plain": [
       "'我们需要在每次执行函数时进行计时'"
      ]
     },
     "execution_count": 12,
     "metadata": {},
     "output_type": "execute_result"
    }
   ],
   "source": [
    "#如果对每一个每个函数进行操作 那么会非常复杂\n",
    "import time\n",
    "\n",
    "\n",
    "def index():\n",
    "    print('welcome to index')\n",
    "    time.sleep(1)\n",
    "\n",
    "\n",
    "def f2():\n",
    "    print('welcome to index')\n",
    "    time.sleep(1)\n",
    "\n",
    "\n",
    "start = time.time()\n",
    "index()\n",
    "end = time.time()\n",
    "print(F\"index run time is {start-end}\")\n",
    "\n",
    "start = time.time()\n",
    "f2()\n",
    "end = time.time()\n",
    "print(F\"f2 run time is {start-end}\")\n",
    "\"\"\"我们需要在每次执行函数时进行计时\"\"\""
   ]
  },
  {
   "cell_type": "markdown",
   "metadata": {},
   "source": [
    "### 改变调用方式"
   ]
  },
  {
   "cell_type": "code",
   "execution_count": 13,
   "metadata": {},
   "outputs": [
    {
     "name": "stdout",
     "output_type": "stream",
     "text": [
      "welcome to index\n",
      "<function index at 0x000002B83732D9D8> time is -1.0018465518951416\n"
     ]
    }
   ],
   "source": [
    "import time\n",
    "\n",
    "\n",
    "def index():\n",
    "    print('welcome to index')\n",
    "    time.sleep(1)\n",
    "\n",
    "\n",
    "def time_count(func):\n",
    "    start = time.time()\n",
    "    func()\n",
    "    end = time.time()\n",
    "    print(f\"{func} time is {start-end}\")\n",
    "\n",
    "\n",
    "time_count(index)\n"
   ]
  },
  {
   "cell_type": "markdown",
   "metadata": {},
   "source": [
    "### 第二种传参方式：包给函数-外包"
   ]
  },
  {
   "cell_type": "code",
   "execution_count": 14,
   "metadata": {},
   "outputs": [
    {
     "name": "stdout",
     "output_type": "stream",
     "text": [
      "welcome to index\n",
      "<function index at 0x000002B8374D2C18> time is -1.0000450611114502\n"
     ]
    }
   ],
   "source": [
    "import time\n",
    "\n",
    "\n",
    "def index():\n",
    "    print('welcome to index')\n",
    "    time.sleep(1)\n",
    "\n",
    "#包给函数\n",
    "def time_count(func):\n",
    "    # func = 最原始的index\n",
    "    def wrapper():\n",
    "        start = time.time()\n",
    "        func()\n",
    "        end = time.time()\n",
    "        print(f\"{func} time is {start-end}\")\n",
    "    return wrapper\n",
    "\n",
    "# f = time_count(index)\n",
    "# f()\n",
    "\n",
    "\n",
    "index = time_count(index)  # index为被装饰函数的内存地址，即index = wrapper\n",
    "index()  # wrapper()\n"
   ]
  },
  {
   "cell_type": "markdown",
   "metadata": {},
   "source": [
    "### 完善装饰器\n",
    "上述的装饰器，最后调用index()的时候，其实是在调用wrapper()，因此如果原始的index()有返回值的时候，wrapper()函数的返回值应该和index()的返回值相同，也就是说，我们需要同步原始的index()和wrapper()方法的返回值。"
   ]
  },
  {
   "cell_type": "code",
   "execution_count": 16,
   "metadata": {},
   "outputs": [
    {
     "name": "stdout",
     "output_type": "stream",
     "text": [
      "welcome to index\n",
      "<function index at 0x000002B8374D2288> time is -1.0015192031860352\n",
      "res: 123\n"
     ]
    }
   ],
   "source": [
    "import time\n",
    "\n",
    "\n",
    "def index():\n",
    "    print('welcome to index')\n",
    "    time.sleep(1)\n",
    "\n",
    "    return 123\n",
    "\n",
    "\n",
    "def time_count(func):\n",
    "    # func = 最原始的index\n",
    "    def wrapper():\n",
    "        start = time.time()\n",
    "        res = func()\n",
    "        end = time.time()\n",
    "        print(f\"{func} time is {start-end}\")\n",
    "\n",
    "        return res\n",
    "    return wrapper\n",
    "\n",
    "#res跟踪index()输出\n",
    "index = time_count(index)\n",
    "res = index()\n",
    "print(f\"res: {res}\")\n"
   ]
  },
  {
   "cell_type": "markdown",
   "metadata": {},
   "source": [
    "**如果原始的index()方法需要传参，那么我们之前的装饰器是无法实现该功能的，由于有wrapper()=index()，所以给wrapper()方法传参即可。**"
   ]
  },
  {
   "cell_type": "code",
   "execution_count": 20,
   "metadata": {},
   "outputs": [
    {
     "name": "stdout",
     "output_type": "stream",
     "text": [
      "welcome 13 to home page\n",
      "<function home at 0x000002B83729ED38> time is -1.0014503002166748\n",
      "res: 13\n"
     ]
    }
   ],
   "source": [
    "import time\n",
    "\n",
    "\n",
    "def index():\n",
    "    print('welcome to index')\n",
    "    time.sleep(1)\n",
    "\n",
    "    return 123\n",
    "\n",
    "\n",
    "def home(name):\n",
    "    print(f\"welcome {name} to home page\")\n",
    "    time.sleep(1)\n",
    "\n",
    "    return name\n",
    "\n",
    "\n",
    "def time_count(func):\n",
    "    # func = 最原始的index\n",
    "    def wrapper(*args, **kwargs):\n",
    "        start = time.time()\n",
    "        res = func(*args, **kwargs)\n",
    "        end = time.time()\n",
    "        print(f\"{func} time is {start-end}\")\n",
    "\n",
    "        return res\n",
    "    return wrapper\n",
    "\n",
    "\n",
    "home = time_count(home)\n",
    "\n",
    "res = home('egon')\n",
    "print(f\"res: {res}\")\n"
   ]
  },
  {
   "cell_type": "markdown",
   "metadata": {},
   "source": [
    "### 装饰器语法糖\n",
    "在被装饰函数正上方，并且是单独一行写上**@装饰器名** 我们就不需要另外函数进行说明"
   ]
  },
  {
   "cell_type": "code",
   "execution_count": 21,
   "metadata": {},
   "outputs": [
    {
     "name": "stdout",
     "output_type": "stream",
     "text": [
      "welcome egon to home page\n",
      "<function home at 0x000002B837EB2CA8> time is -1.0007948875427246\n",
      "res: egon\n"
     ]
    }
   ],
   "source": [
    "import time\n",
    "\n",
    "\n",
    "def time_count(func):\n",
    "    # func = 最原始的index\n",
    "    def wrapper(*args, **kwargs):\n",
    "        start = time.time()\n",
    "        res = func(*args, **kwargs)\n",
    "        end = time.time()\n",
    "        print(f\"{func} time is {start-end}\")\n",
    "\n",
    "        return res\n",
    "    return wrapper\n",
    "\n",
    "\n",
    "@time_count  # home = time_count(home)\n",
    "def home(name):\n",
    "    print(f\"welcome {name} to home page\")\n",
    "    time.sleep(1)\n",
    "\n",
    "    return name\n",
    "\n",
    "\n",
    "@time_count  # index = time_count(index)\n",
    "def index():\n",
    "    print('welcome to index')\n",
    "    time.sleep(1)\n",
    "\n",
    "    return 123\n",
    "\n",
    "\n",
    "res = home('egon')\n",
    "print(f\"res: {res}\")\n"
   ]
  },
  {
   "cell_type": "markdown",
   "metadata": {},
   "source": [
    "### **装饰器模板**"
   ]
  },
  {
   "cell_type": "code",
   "execution_count": null,
   "metadata": {},
   "outputs": [],
   "source": [
    "def deco(func):\n",
    "    def wrapper(*args,**kwargs):\n",
    "        res = func(*args,**kwargs)\n",
    "        return res\n",
    "    return wrapper"
   ]
  },
  {
   "cell_type": "markdown",
   "metadata": {},
   "source": [
    "## 有参装饰器\n",
    "[有参装饰器]([https://www.cnblogs.com/nickchen121/p/10771174.html])"
   ]
  },
  {
   "cell_type": "markdown",
   "metadata": {},
   "source": [
    "# 迭代器\n",
    "+ 可迭代的对象：Python内置str、list、tuple、dict、set、file都是可迭代对象。\n",
    "+ 特点：\n",
    "    + 内置有__iter__方法的都叫可迭代的对象。\n",
    "+ 迭代器对象：可迭代的对象执行__iter__方法得到的返回值。并且可迭代对象会有一个__next__方法\n",
    "    + 内置\\_\\_next\\_\\_方法，执行该方法会拿到迭代器对象中的一个值\n",
    "    + 内置有\\_\\_iter\\_\\_方法，执行该方法会拿到迭代器本身\n",
    "    + 文件本身就是迭代器对象。"
   ]
  },
  {
   "cell_type": "markdown",
   "metadata": {},
   "source": [
    "## 可迭代对象"
   ]
  },
  {
   "cell_type": "code",
   "execution_count": 23,
   "metadata": {},
   "outputs": [],
   "source": [
    "# x = 1.__iter__  # SyntaxError: invalid syntax\n",
    "\n",
    "# 以下都是可迭代的对象\n",
    "\n",
    "name = 'nick'.__iter__\n",
    "lis = [1, 2].__iter__\n",
    "tup = (1, 2).__iter__\n",
    "dic = {'name': 'nick'}.__iter__\n",
    "s1 = {'a', 'b'}.__iter__"
   ]
  },
  {
   "cell_type": "markdown",
   "metadata": {},
   "source": [
    "## 迭代器对象"
   ]
  },
  {
   "cell_type": "code",
   "execution_count": 24,
   "metadata": {},
   "outputs": [
    {
     "name": "stdout",
     "output_type": "stream",
     "text": [
      "a\n",
      "b\n",
      "c\n"
     ]
    }
   ],
   "source": [
    "# 不依赖索引的数据类型迭代取值\n",
    "dic = {'a': 1, 'b': 2, 'c': 3}\n",
    "iter_dic = dic.__iter__()\n",
    "print(iter_dic.__next__())\n",
    "print(iter_dic.__next__())\n",
    "print(iter_dic.__next__())\n",
    "# print(iter_dic.__next__())  # StopIteration:"
   ]
  },
  {
   "cell_type": "code",
   "execution_count": 25,
   "metadata": {},
   "outputs": [
    {
     "name": "stdout",
     "output_type": "stream",
     "text": [
      "h\n",
      "e\n",
      "l\n",
      "l\n",
      "o\n"
     ]
    }
   ],
   "source": [
    "#逐个取值比较繁杂 我们使用循环\n",
    "s = 'hello'\n",
    "iter_s = s.__iter__()\n",
    "\n",
    "while True:\n",
    "    try:\n",
    "        print(iter_s.__next__())\n",
    "    except StopIteration:\n",
    "        break\n"
   ]
  },
  {
   "cell_type": "markdown",
   "metadata": {},
   "source": [
    "## for循环原理\n",
    "+ for循环称为迭代器循环，in后必须是可迭代的对象。"
   ]
  },
  {
   "cell_type": "code",
   "execution_count": null,
   "metadata": {},
   "outputs": [],
   "source": []
  },
  {
   "cell_type": "code",
   "execution_count": null,
   "metadata": {},
   "outputs": [],
   "source": []
  }
 ],
 "metadata": {
  "kernelspec": {
   "display_name": "Python [conda env:Learn]",
   "language": "python",
   "name": "conda-env-Learn-py"
  },
  "language_info": {
   "codemirror_mode": {
    "name": "ipython",
    "version": 3
   },
   "file_extension": ".py",
   "mimetype": "text/x-python",
   "name": "python",
   "nbconvert_exporter": "python",
   "pygments_lexer": "ipython3",
   "version": "3.7.11"
  },
  "toc": {
   "base_numbering": 1,
   "nav_menu": {},
   "number_sections": true,
   "sideBar": true,
   "skip_h1_title": false,
   "title_cell": "Table of Contents",
   "title_sidebar": "Contents",
   "toc_cell": false,
   "toc_position": {},
   "toc_section_display": true,
   "toc_window_display": true
  }
 },
 "nbformat": 4,
 "nbformat_minor": 2
}
