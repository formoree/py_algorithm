{
 "cells": [
  {
   "cell_type": "markdown",
   "metadata": {},
   "source": [
    "# 闭包函数"
   ]
  },
  {
   "cell_type": "markdown",
   "metadata": {},
   "source": [
    "## 使用参数传参 "
   ]
  },
  {
   "cell_type": "code",
   "execution_count": 4,
   "metadata": {},
   "outputs": [
    {
     "name": "stdout",
     "output_type": "stream",
     "text": [
      "1\n",
      "1\n",
      "1\n"
     ]
    }
   ],
   "source": [
    "def func(x):\n",
    "    print(x)\n",
    "\n",
    "func(1)\n",
    "func(1)\n",
    "func(1)"
   ]
  },
  {
   "cell_type": "markdown",
   "metadata": {},
   "source": [
    "## 包给函数"
   ]
  },
  {
   "cell_type": "code",
   "execution_count": 6,
   "metadata": {},
   "outputs": [
    {
     "name": "stdout",
     "output_type": "stream",
     "text": [
      "1\n",
      "1\n",
      "1\n",
      "查看闭包元素：<function outter.<locals>.inner at 0x000002B8374D25E8> \n"
     ]
    }
   ],
   "source": [
    "def outter(x):\n",
    "    \n",
    "    #定义inner函数输出x\n",
    "    def inner():\n",
    "        print(x)\n",
    "    return inner\n",
    "\n",
    "f = outter(1)\n",
    "f()\n",
    "f()\n",
    "f()\n",
    "print(f'查看闭包元素：{f} ')"
   ]
  },
  {
   "cell_type": "markdown",
   "metadata": {},
   "source": [
    "## 应用--爬虫"
   ]
  },
  {
   "cell_type": "code",
   "execution_count": 7,
   "metadata": {},
   "outputs": [
    {
     "name": "stdout",
     "output_type": "stream",
     "text": [
      "done: https://www.baidu.com\n",
      "done: https://www.baidu.com\n",
      "done: https://www.baidu.com\n",
      "done: https://www.cnblogs.com/linhaifeng\n",
      "done: https://www.cnblogs.com/linhaifeng\n",
      "done: https://www.cnblogs.com/linhaifeng\n"
     ]
    }
   ],
   "source": [
    "import requests\n",
    "\n",
    "\n",
    "def get(url):\n",
    "    response = requests.get(url)\n",
    "    print(f\"done: {url}\")\n",
    "    \n",
    "get('https://www.baidu.com')\n",
    "get('https://www.baidu.com')\n",
    "get('https://www.baidu.com')\n",
    "\n",
    "\n",
    "get('https://www.cnblogs.com/linhaifeng')\n",
    "get('https://www.cnblogs.com/linhaifeng')\n",
    "get('https://www.cnblogs.com/linhaifeng')"
   ]
  },
  {
   "cell_type": "code",
   "execution_count": 8,
   "metadata": {},
   "outputs": [
    {
     "name": "stdout",
     "output_type": "stream",
     "text": [
      "done: https://www.baidu.com\n",
      "done: https://www.baidu.com\n",
      "done: https://www.python.org\n",
      "done: https://www.python.org\n"
     ]
    }
   ],
   "source": [
    "#对上述代码进行改进  简介明了 简化传参\n",
    "import requests\n",
    "\n",
    "\n",
    "def outter(url):\n",
    "    def get():\n",
    "        response = requests.get(url)\n",
    "        print(f\"done: {url}\")\n",
    "    return get\n",
    "\n",
    "baidu=outter('https://www.baidu.com')\n",
    "python = outter('https://www.python.org')\n",
    "\n",
    "baidu()\n",
    "baidu()\n",
    "\n",
    "python()\n",
    "python()"
   ]
  },
  {
   "cell_type": "markdown",
   "metadata": {},
   "source": [
    "# 装饰器 \n",
    "+ 装饰器的实现必须遵循两大原则：\n",
    "    + 不修改被装饰对象的源代码\n",
    "    + 不修改被装饰对象的调用方式"
   ]
  },
  {
   "cell_type": "markdown",
   "metadata": {},
   "source": [
    "## 无参装饰器 "
   ]
  },
  {
   "cell_type": "code",
   "execution_count": 9,
   "metadata": {},
   "outputs": [
    {
     "name": "stdout",
     "output_type": "stream",
     "text": [
      "welcome to index\n",
      "index run time is -1.0018134117126465\n"
     ]
    }
   ],
   "source": [
    "#我们希望在源代码中加入时间模块\n",
    "import time\n",
    "\n",
    "\n",
    "def index():\n",
    "    start = time.time()\n",
    "    print('welcome to index')\n",
    "    time.sleep(1)\n",
    "    end = time.time()\n",
    "    print(F\"index run time is {start-end}\")\n",
    "\n",
    "\n",
    "index()\n"
   ]
  },
  {
   "cell_type": "code",
   "execution_count": 12,
   "metadata": {},
   "outputs": [
    {
     "name": "stdout",
     "output_type": "stream",
     "text": [
      "welcome to index\n",
      "index run time is -1.0027251243591309\n",
      "welcome to index\n",
      "f2 run time is -1.0008063316345215\n"
     ]
    },
    {
     "data": {
      "text/plain": [
       "'我们需要在每次执行函数时进行计时'"
      ]
     },
     "execution_count": 12,
     "metadata": {},
     "output_type": "execute_result"
    }
   ],
   "source": [
    "#如果对每一个每个函数进行操作 那么会非常复杂\n",
    "import time\n",
    "\n",
    "\n",
    "def index():\n",
    "    print('welcome to index')\n",
    "    time.sleep(1)\n",
    "\n",
    "\n",
    "def f2():\n",
    "    print('welcome to index')\n",
    "    time.sleep(1)\n",
    "\n",
    "\n",
    "start = time.time()\n",
    "index()\n",
    "end = time.time()\n",
    "print(F\"index run time is {start-end}\")\n",
    "\n",
    "start = time.time()\n",
    "f2()\n",
    "end = time.time()\n",
    "print(F\"f2 run time is {start-end}\")\n",
    "\"\"\"我们需要在每次执行函数时进行计时\"\"\""
   ]
  },
  {
   "cell_type": "markdown",
   "metadata": {},
   "source": [
    "### 改变调用方式"
   ]
  },
  {
   "cell_type": "code",
   "execution_count": 13,
   "metadata": {},
   "outputs": [
    {
     "name": "stdout",
     "output_type": "stream",
     "text": [
      "welcome to index\n",
      "<function index at 0x000002B83732D9D8> time is -1.0018465518951416\n"
     ]
    }
   ],
   "source": [
    "import time\n",
    "\n",
    "\n",
    "def index():\n",
    "    print('welcome to index')\n",
    "    time.sleep(1)\n",
    "\n",
    "\n",
    "def time_count(func):\n",
    "    start = time.time()\n",
    "    func()\n",
    "    end = time.time()\n",
    "    print(f\"{func} time is {start-end}\")\n",
    "\n",
    "\n",
    "time_count(index)\n"
   ]
  },
  {
   "cell_type": "markdown",
   "metadata": {},
   "source": [
    "### 第二种传参方式：包给函数-外包"
   ]
  },
  {
   "cell_type": "code",
   "execution_count": 14,
   "metadata": {},
   "outputs": [
    {
     "name": "stdout",
     "output_type": "stream",
     "text": [
      "welcome to index\n",
      "<function index at 0x000002B8374D2C18> time is -1.0000450611114502\n"
     ]
    }
   ],
   "source": [
    "import time\n",
    "\n",
    "\n",
    "def index():\n",
    "    print('welcome to index')\n",
    "    time.sleep(1)\n",
    "\n",
    "#包给函数\n",
    "def time_count(func):\n",
    "    # func = 最原始的index\n",
    "    def wrapper():\n",
    "        start = time.time()\n",
    "        func()\n",
    "        end = time.time()\n",
    "        print(f\"{func} time is {start-end}\")\n",
    "    return wrapper\n",
    "\n",
    "# f = time_count(index)\n",
    "# f()\n",
    "\n",
    "\n",
    "index = time_count(index)  # index为被装饰函数的内存地址，即index = wrapper\n",
    "index()  # wrapper()\n"
   ]
  },
  {
   "cell_type": "markdown",
   "metadata": {},
   "source": [
    "### 完善装饰器\n",
    "上述的装饰器，最后调用index()的时候，其实是在调用wrapper()，因此如果原始的index()有返回值的时候，wrapper()函数的返回值应该和index()的返回值相同，也就是说，我们需要同步原始的index()和wrapper()方法的返回值。"
   ]
  },
  {
   "cell_type": "code",
   "execution_count": 16,
   "metadata": {},
   "outputs": [
    {
     "name": "stdout",
     "output_type": "stream",
     "text": [
      "welcome to index\n",
      "<function index at 0x000002B8374D2288> time is -1.0015192031860352\n",
      "res: 123\n"
     ]
    }
   ],
   "source": [
    "import time\n",
    "\n",
    "\n",
    "def index():\n",
    "    print('welcome to index')\n",
    "    time.sleep(1)\n",
    "\n",
    "    return 123\n",
    "\n",
    "\n",
    "def time_count(func):\n",
    "    # func = 最原始的index\n",
    "    def wrapper():\n",
    "        start = time.time()\n",
    "        res = func()\n",
    "        end = time.time()\n",
    "        print(f\"{func} time is {start-end}\")\n",
    "\n",
    "        return res\n",
    "    return wrapper\n",
    "\n",
    "#res跟踪index()输出\n",
    "index = time_count(index)\n",
    "res = index()\n",
    "print(f\"res: {res}\")\n"
   ]
  },
  {
   "cell_type": "markdown",
   "metadata": {},
   "source": [
    "**如果原始的index()方法需要传参，那么我们之前的装饰器是无法实现该功能的，由于有wrapper()=index()，所以给wrapper()方法传参即可。**"
   ]
  },
  {
   "cell_type": "code",
   "execution_count": 20,
   "metadata": {},
   "outputs": [
    {
     "name": "stdout",
     "output_type": "stream",
     "text": [
      "welcome 13 to home page\n",
      "<function home at 0x000002B83729ED38> time is -1.0014503002166748\n",
      "res: 13\n"
     ]
    }
   ],
   "source": [
    "import time\n",
    "\n",
    "\n",
    "def index():\n",
    "    print('welcome to index')\n",
    "    time.sleep(1)\n",
    "\n",
    "    return 123\n",
    "\n",
    "\n",
    "def home(name):\n",
    "    print(f\"welcome {name} to home page\")\n",
    "    time.sleep(1)\n",
    "\n",
    "    return name\n",
    "\n",
    "\n",
    "def time_count(func):\n",
    "    # func = 最原始的index\n",
    "    def wrapper(*args, **kwargs):\n",
    "        start = time.time()\n",
    "        res = func(*args, **kwargs)\n",
    "        end = time.time()\n",
    "        print(f\"{func} time is {start-end}\")\n",
    "\n",
    "        return res\n",
    "    return wrapper\n",
    "\n",
    "\n",
    "home = time_count(home)\n",
    "\n",
    "res = home('egon')\n",
    "print(f\"res: {res}\")\n"
   ]
  },
  {
   "cell_type": "markdown",
   "metadata": {},
   "source": [
    "### 装饰器语法糖\n",
    "在被装饰函数正上方，并且是单独一行写上**@装饰器名** 我们就不需要另外函数进行说明"
   ]
  },
  {
   "cell_type": "code",
   "execution_count": 21,
   "metadata": {},
   "outputs": [
    {
     "name": "stdout",
     "output_type": "stream",
     "text": [
      "welcome egon to home page\n",
      "<function home at 0x000002B837EB2CA8> time is -1.0007948875427246\n",
      "res: egon\n"
     ]
    }
   ],
   "source": [
    "import time\n",
    "\n",
    "\n",
    "def time_count(func):\n",
    "    # func = 最原始的index\n",
    "    def wrapper(*args, **kwargs):\n",
    "        start = time.time()\n",
    "        res = func(*args, **kwargs)\n",
    "        end = time.time()\n",
    "        print(f\"{func} time is {start-end}\")\n",
    "\n",
    "        return res\n",
    "    return wrapper\n",
    "\n",
    "\n",
    "@time_count  # home = time_count(home)\n",
    "def home(name):\n",
    "    print(f\"welcome {name} to home page\")\n",
    "    time.sleep(1)\n",
    "\n",
    "    return name\n",
    "\n",
    "\n",
    "@time_count  # index = time_count(index)\n",
    "def index():\n",
    "    print('welcome to index')\n",
    "    time.sleep(1)\n",
    "\n",
    "    return 123\n",
    "\n",
    "\n",
    "res = home('egon')\n",
    "print(f\"res: {res}\")\n"
   ]
  },
  {
   "cell_type": "markdown",
   "metadata": {},
   "source": [
    "### **装饰器模板**"
   ]
  },
  {
   "cell_type": "code",
   "execution_count": null,
   "metadata": {},
   "outputs": [],
   "source": [
    "def deco(func):\n",
    "    def wrapper(*args,**kwargs):\n",
    "        res = func(*args,**kwargs)\n",
    "        return res\n",
    "    return wrapper"
   ]
  },
  {
   "cell_type": "markdown",
   "metadata": {},
   "source": [
    "## 有参装饰器\n",
    "[有参装饰器]([https://www.cnblogs.com/nickchen121/p/10771174.html])"
   ]
  },
  {
   "cell_type": "markdown",
   "metadata": {},
   "source": [
    "# 迭代器\n",
    "+ 可迭代的对象：Python内置str、list、tuple、dict、set、file都是可迭代对象。\n",
    "+ 特点：\n",
    "    + 内置有__iter__方法的都叫可迭代的对象。\n",
    "+ 迭代器对象：可迭代的对象执行__iter__方法得到的返回值。并且可迭代对象会有一个__next__方法\n",
    "    + 内置\\_\\_next\\_\\_方法，执行该方法会拿到迭代器对象中的一个值\n",
    "    + 内置有\\_\\_iter\\_\\_方法，执行该方法会拿到迭代器本身\n",
    "    + 文件本身就是迭代器对象。"
   ]
  },
  {
   "cell_type": "markdown",
   "metadata": {},
   "source": [
    "## 可迭代对象"
   ]
  },
  {
   "cell_type": "code",
   "execution_count": 23,
   "metadata": {},
   "outputs": [],
   "source": [
    "# x = 1.__iter__  # SyntaxError: invalid syntax\n",
    "\n",
    "# 以下都是可迭代的对象\n",
    "\n",
    "name = 'nick'.__iter__\n",
    "lis = [1, 2].__iter__\n",
    "tup = (1, 2).__iter__\n",
    "dic = {'name': 'nick'}.__iter__\n",
    "s1 = {'a', 'b'}.__iter__"
   ]
  },
  {
   "cell_type": "markdown",
   "metadata": {},
   "source": [
    "## 迭代器对象"
   ]
  },
  {
   "cell_type": "code",
   "execution_count": 24,
   "metadata": {},
   "outputs": [
    {
     "name": "stdout",
     "output_type": "stream",
     "text": [
      "a\n",
      "b\n",
      "c\n"
     ]
    }
   ],
   "source": [
    "# 不依赖索引的数据类型迭代取值\n",
    "dic = {'a': 1, 'b': 2, 'c': 3}\n",
    "iter_dic = dic.__iter__()\n",
    "print(iter_dic.__next__())\n",
    "print(iter_dic.__next__())\n",
    "print(iter_dic.__next__())\n",
    "# print(iter_dic.__next__())  # StopIteration:"
   ]
  },
  {
   "cell_type": "code",
   "execution_count": 25,
   "metadata": {},
   "outputs": [
    {
     "name": "stdout",
     "output_type": "stream",
     "text": [
      "h\n",
      "e\n",
      "l\n",
      "l\n",
      "o\n"
     ]
    }
   ],
   "source": [
    "#逐个取值比较繁杂 我们使用循环\n",
    "s = 'hello'\n",
    "iter_s = s.__iter__()\n",
    "\n",
    "while True:\n",
    "    try:\n",
    "        print(iter_s.__next__())\n",
    "    except StopIteration:\n",
    "        break\n"
   ]
  },
  {
   "cell_type": "markdown",
   "metadata": {},
   "source": [
    "## for循环原理\n",
    "+ for循环称为迭代器循环，in后必须是可迭代的对象。"
   ]
  },
  {
   "cell_type": "markdown",
   "metadata": {},
   "source": [
    "# 迭代器 \n",
    "+ yield\n",
    "    + yield的英文单词意思是生产，在函数中但凡出现yield关键字，再调用函数，就不会继续执行函数体代码，而是会返回一个值。\n",
    "    + 生成器提供了非常方便的自定义迭代器的途径\n",
    "    + yield+return?? 意义不大"
   ]
  },
  {
   "cell_type": "markdown",
   "metadata": {},
   "source": [
    "## yield关键字\n",
    "+ yield的英文单词意思是生产，在函数中但凡出现yield关键字，再调用函数，就不会继续执行函数体代码，而是会返回一个值。\n",
    "+ 生成器提供了非常方便的自定义迭代器的途径"
   ]
  },
  {
   "cell_type": "code",
   "execution_count": 2,
   "metadata": {},
   "outputs": [
    {
     "data": {
      "text/plain": [
       "<generator object func at 0x00000162E193A748>"
      ]
     },
     "execution_count": 2,
     "metadata": {},
     "output_type": "execute_result"
    }
   ],
   "source": [
    "def func():\n",
    "    print(1)\n",
    "    yield\n",
    "    print(2)\n",
    "    yield\n",
    "\n",
    "\n",
    "func()"
   ]
  },
  {
   "cell_type": "code",
   "execution_count": null,
   "metadata": {},
   "outputs": [],
   "source": [
    "# 自定义迭代器\n",
    "def func():\n",
    "    print('from func 1')\n",
    "    yield 'a'\n",
    "    print('from func 2')\n",
    "    yield 'b'\n",
    "\n",
    "\n",
    "g = func()\n",
    "for i in g:\n",
    "    print(i)\n",
    "\n",
    "print(f\"list(func()): {list(func())}\")\n"
   ]
  },
  {
   "cell_type": "markdown",
   "metadata": {},
   "source": [
    "## 协同程序 "
   ]
  },
  {
   "cell_type": "markdown",
   "metadata": {},
   "source": [
    "### send(value) "
   ]
  },
  {
   "cell_type": "code",
   "execution_count": 3,
   "metadata": {},
   "outputs": [
    {
     "name": "stdout",
     "output_type": "stream",
     "text": [
      "--start--\n",
      "1 Fighting!\n",
      "2 hahaha!\n",
      "--over--\n",
      "first:5, second:12, third:13\n"
     ]
    }
   ],
   "source": [
    "def h():\n",
    "    print('--start--')\n",
    "    first = yield 5  # 等待接收 Fighting! 值\n",
    "    print('1', first)\n",
    "    second = yield 12  # 等待接收 hahaha! 值\n",
    "    print('2', second)\n",
    "    yield 13\n",
    "    print('--end--')\n",
    "\n",
    "\n",
    "g = h()\n",
    "first = next(g)  # m 获取了yield 5 的参数值 5\n",
    "# (yield 5)表达式被赋予了'Fighting!',  d 获取了yield 12 的参数值12\n",
    "second = g.send('Fighting!')\n",
    "third = g.send('hahaha!')  # (yield 12)表达式被赋予了'hahaha!'\n",
    "print(f'--over--')\n",
    "print(f\"first:{first}, second:{second}, third:{third}\")\n"
   ]
  },
  {
   "cell_type": "markdown",
   "metadata": {},
   "source": [
    "### close()"
   ]
  },
  {
   "cell_type": "code",
   "execution_count": null,
   "metadata": {},
   "outputs": [],
   "source": [
    "def repeater():\n",
    "    n = 0\n",
    "    while True:\n",
    "        n = (yield n)\n",
    "\n",
    "\n",
    "r = repeater()\n",
    "r.close()\n",
    "print(next(r))  # StopIteration\n"
   ]
  },
  {
   "cell_type": "markdown",
   "metadata": {},
   "source": [
    "### throw(type, value=None, traceback=None)"
   ]
  },
  {
   "cell_type": "code",
   "execution_count": null,
   "metadata": {},
   "outputs": [],
   "source": [
    "def close(self):\n",
    "    try:\n",
    "        self.throw(GeneratorExit)\n",
    "    except (GeneratorExit, StopIteration):\n",
    "        pass \n",
    "    else:\n",
    "        raise RuntimeError(\"generator ignored GeneratorExit\") # Other exceptions are not caught\n"
   ]
  },
  {
   "cell_type": "markdown",
   "metadata": {},
   "source": [
    "## 总结\n",
    "+ yield\n",
    "    + 提供一种自定义迭代器的方式\n",
    "    + yield可以暂停住函数，并提供当前的返回值\n",
    "+ yield和return:\n",
    "    + 相同点：两者都是在函数内部使用，都可以返回值，并且返回值没有类型和个数的限制\n",
    "    + 不同点：return只能返回一次之；yield可以返回多次值"
   ]
  },
  {
   "cell_type": "markdown",
   "metadata": {},
   "source": [
    "# 内置函数\n",
    "+ bytes()：解码字符\n",
    "+ chr()/ord()：chr()参考ASCII码表将数字转成对应字符；ord()将字符转换成对应的数字。\n",
    "+ divmod()：把除数和余数运算结果结合起来，返回一个包含商和余数的元组(a // b, a % b)\n",
    "+ enumerate()：带索引的迭代\n",
    "+ eval()：把字符串翻译成数据类型\n",
    "+ hash():查看是否能hash\n",
    "+ abs()：求绝对值\n",
    "+ all():可迭代对象内元素全为真，则返回真\n",
    "+ any():可迭代对象中有一元素为真，则为真\n",
    "+ bin()/oct()/hex():二进制、八进制、十六进制转换。\n",
    "+ dir():列举包的所有功能\n",
    "+ frozenset():将集合变为不可变\n",
    "+ globals()/loacals()：查看全局名字；查看局部名字。\n",
    "+ pow()\n",
    "+ sum()：求和\n",
    "+ __import__()：通过字符串导入模块"
   ]
  },
  {
   "cell_type": "markdown",
   "metadata": {
    "heading_collapsed": true
   },
   "source": [
    "## 掌握"
   ]
  },
  {
   "cell_type": "markdown",
   "metadata": {
    "heading_collapsed": true,
    "hidden": true
   },
   "source": [
    "### bytes()"
   ]
  },
  {
   "cell_type": "code",
   "execution_count": 4,
   "metadata": {
    "hidden": true
   },
   "outputs": [
    {
     "name": "stdout",
     "output_type": "stream",
     "text": [
      "b'\\xe4\\xbd\\xa0\\xe5\\xa5\\xbd'\n",
      "b'\\xe4\\xbd\\xa0\\xe5\\xa5\\xbd'\n"
     ]
    }
   ],
   "source": [
    "res = '你好'.encode('utf8')\n",
    "print(res)\n",
    "res = bytes('你好', encoding='utf8')\n",
    "print(res)"
   ]
  },
  {
   "cell_type": "markdown",
   "metadata": {
    "hidden": true
   },
   "source": [
    "### chr()/ord()"
   ]
  },
  {
   "cell_type": "code",
   "execution_count": 5,
   "metadata": {
    "hidden": true
   },
   "outputs": [
    {
     "name": "stdout",
     "output_type": "stream",
     "text": [
      "A\n",
      "65\n"
     ]
    }
   ],
   "source": [
    "print(chr(65))\n",
    "print(ord('A'))\n"
   ]
  },
  {
   "cell_type": "markdown",
   "metadata": {
    "hidden": true
   },
   "source": [
    "### divmod()"
   ]
  },
  {
   "cell_type": "code",
   "execution_count": 6,
   "metadata": {
    "hidden": true
   },
   "outputs": [
    {
     "name": "stdout",
     "output_type": "stream",
     "text": [
      "(3, 1)\n"
     ]
    }
   ],
   "source": [
    "print(divmod(10, 3))"
   ]
  },
  {
   "cell_type": "markdown",
   "metadata": {
    "hidden": true
   },
   "source": [
    "### enumerate()"
   ]
  },
  {
   "cell_type": "code",
   "execution_count": 7,
   "metadata": {
    "hidden": true
   },
   "outputs": [
    {
     "name": "stdout",
     "output_type": "stream",
     "text": [
      "(0, 'a')\n",
      "(1, 'b')\n",
      "(2, 'c')\n"
     ]
    }
   ],
   "source": [
    "l = ['a', 'b', 'c']\n",
    "for i in enumerate(l):\n",
    "    print(i)"
   ]
  },
  {
   "cell_type": "markdown",
   "metadata": {
    "hidden": true
   },
   "source": [
    "### eval()"
   ]
  },
  {
   "cell_type": "code",
   "execution_count": 11,
   "metadata": {
    "hidden": true
   },
   "outputs": [
    {
     "name": "stdout",
     "output_type": "stream",
     "text": [
      "12.3\n",
      "{1: 2}\n"
     ]
    }
   ],
   "source": [
    "s = '12.3'\n",
    "print(eval(s))\n",
    "s = '{1:2}'\n",
    "print(eval(s))"
   ]
  },
  {
   "cell_type": "markdown",
   "metadata": {},
   "source": [
    "## 了解"
   ]
  },
  {
   "cell_type": "markdown",
   "metadata": {},
   "source": [
    "### dir()"
   ]
  },
  {
   "cell_type": "code",
   "execution_count": 12,
   "metadata": {},
   "outputs": [
    {
     "name": "stdout",
     "output_type": "stream",
     "text": [
      "['DirEntry', 'F_OK', 'MutableMapping', 'O_APPEND', 'O_BINARY', 'O_CREAT', 'O_EXCL', 'O_NOINHERIT', 'O_RANDOM', 'O_RDONLY', 'O_RDWR', 'O_SEQUENTIAL', 'O_SHORT_LIVED', 'O_TEMPORARY', 'O_TEXT', 'O_TRUNC', 'O_WRONLY', 'P_DETACH', 'P_NOWAIT', 'P_NOWAITO', 'P_OVERLAY', 'P_WAIT', 'PathLike', 'R_OK', 'SEEK_CUR', 'SEEK_END', 'SEEK_SET', 'TMP_MAX', 'W_OK', 'X_OK', '_Environ', '__all__', '__builtins__', '__cached__', '__doc__', '__file__', '__loader__', '__name__', '__package__', '__spec__', '_check_methods', '_execvpe', '_exists', '_exit', '_fspath', '_get_exports_list', '_putenv', '_unsetenv', '_wrap_close', 'abc', 'abort', 'access', 'altsep', 'chdir', 'chmod', 'close', 'closerange', 'cpu_count', 'curdir', 'defpath', 'device_encoding', 'devnull', 'dup', 'dup2', 'environ', 'error', 'execl', 'execle', 'execlp', 'execlpe', 'execv', 'execve', 'execvp', 'execvpe', 'extsep', 'fdopen', 'fsdecode', 'fsencode', 'fspath', 'fstat', 'fsync', 'ftruncate', 'get_exec_path', 'get_handle_inheritable', 'get_inheritable', 'get_terminal_size', 'getcwd', 'getcwdb', 'getenv', 'getlogin', 'getpid', 'getppid', 'isatty', 'kill', 'linesep', 'link', 'listdir', 'lseek', 'lstat', 'makedirs', 'mkdir', 'name', 'open', 'pardir', 'path', 'pathsep', 'pipe', 'popen', 'putenv', 'read', 'readlink', 'remove', 'removedirs', 'rename', 'renames', 'replace', 'rmdir', 'scandir', 'sep', 'set_handle_inheritable', 'set_inheritable', 'spawnl', 'spawnle', 'spawnv', 'spawnve', 'st', 'startfile', 'stat', 'stat_result', 'statvfs_result', 'strerror', 'supports_bytes_environ', 'supports_dir_fd', 'supports_effective_ids', 'supports_fd', 'supports_follow_symlinks', 'symlink', 'sys', 'system', 'terminal_size', 'times', 'times_result', 'truncate', 'umask', 'uname_result', 'unlink', 'urandom', 'utime', 'waitpid', 'walk', 'write']\n"
     ]
    }
   ],
   "source": [
    "import os\n",
    "print(dir(os))"
   ]
  },
  {
   "cell_type": "markdown",
   "metadata": {},
   "source": [
    "### globals()/loacals()"
   ]
  },
  {
   "cell_type": "code",
   "execution_count": 14,
   "metadata": {},
   "outputs": [
    {
     "name": "stdout",
     "output_type": "stream",
     "text": [
      "{'a': 1}\n"
     ]
    }
   ],
   "source": [
    "# print(globals())\n",
    "def func():\n",
    "    a = 1\n",
    "#     print(globals())\n",
    "    print(locals())\n",
    "\n",
    "\n",
    "func()\n"
   ]
  },
  {
   "cell_type": "markdown",
   "metadata": {},
   "source": [
    "### pow()"
   ]
  },
  {
   "cell_type": "code",
   "execution_count": 15,
   "metadata": {},
   "outputs": [
    {
     "name": "stdout",
     "output_type": "stream",
     "text": [
      "0\n",
      "9\n"
     ]
    }
   ],
   "source": [
    "print(pow(3, 2, 3))  # (3**2)%3\n",
    "print(pow(3, 2))  # (3**2)"
   ]
  },
  {
   "cell_type": "markdown",
   "metadata": {},
   "source": [
    "### __import__()"
   ]
  },
  {
   "cell_type": "code",
   "execution_count": 16,
   "metadata": {},
   "outputs": [
    {
     "name": "stdout",
     "output_type": "stream",
     "text": [
      "1628948000.6549544\n"
     ]
    }
   ],
   "source": [
    "m = __import__('time')\n",
    "print(m.time())"
   ]
  }
 ],
 "metadata": {
  "kernelspec": {
   "display_name": "Python [conda env:Learn]",
   "language": "python",
   "name": "conda-env-Learn-py"
  },
  "language_info": {
   "codemirror_mode": {
    "name": "ipython",
    "version": 3
   },
   "file_extension": ".py",
   "mimetype": "text/x-python",
   "name": "python",
   "nbconvert_exporter": "python",
   "pygments_lexer": "ipython3",
   "version": "3.7.11"
  },
  "toc": {
   "base_numbering": 1,
   "nav_menu": {},
   "number_sections": true,
   "sideBar": true,
   "skip_h1_title": false,
   "title_cell": "Table of Contents",
   "title_sidebar": "Contents",
   "toc_cell": false,
   "toc_position": {},
   "toc_section_display": true,
   "toc_window_display": true
  }
 },
 "nbformat": 4,
 "nbformat_minor": 2
}
