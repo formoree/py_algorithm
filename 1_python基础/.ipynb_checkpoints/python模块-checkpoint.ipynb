{
 "cells": [
  {
   "cell_type": "markdown",
   "metadata": {},
   "source": [
    "# Time\n",
    "+ time.time():时间戳\n",
    "+ time.strftime(\"%Y-%m-%d %X\")\n",
    "+ time.localtime()：本地时区时间"
   ]
  },
  {
   "cell_type": "markdown",
   "metadata": {},
   "source": [
    "## 时间戳\n",
    "时间戳表示的是从1970年1月1日00:00:00开始按秒计算的偏移量"
   ]
  },
  {
   "cell_type": "code",
   "execution_count": 1,
   "metadata": {},
   "outputs": [
    {
     "name": "stdout",
     "output_type": "stream",
     "text": [
      "1628993838.3030045 <class 'float'>\n"
     ]
    }
   ],
   "source": [
    "import time\n",
    "time_stamp = time.time()\n",
    "print(time_stamp, type(time_stamp))"
   ]
  },
  {
   "cell_type": "markdown",
   "metadata": {},
   "source": [
    "## 格式化时间\n",
    "格式化时间表示的是普通的字符串格式的时间"
   ]
  },
  {
   "cell_type": "code",
   "execution_count": 6,
   "metadata": {},
   "outputs": [
    {
     "name": "stdout",
     "output_type": "stream",
     "text": [
      "2021-08-15 10:20:25 <class 'str'>\n"
     ]
    }
   ],
   "source": [
    "format_time = time.strftime(\"%Y-%m-%d %X\")\n",
    "print(format_time, type(format_time))"
   ]
  },
  {
   "cell_type": "markdown",
   "metadata": {},
   "source": [
    "## 结构化时间\n",
    "结构化的时间(struct time)：struct_time元组共有9个元素共九个元素，分别为(年，月，日，时，分，秒，一年中第几周，一年中第几天，夏令时)"
   ]
  },
  {
   "cell_type": "code",
   "execution_count": 7,
   "metadata": {},
   "outputs": [
    {
     "name": "stdout",
     "output_type": "stream",
     "text": [
      "本地时区的struct_time:\n",
      "time.struct_time(tm_year=2021, tm_mon=8, tm_mday=15, tm_hour=10, tm_min=21, tm_sec=32, tm_wday=6, tm_yday=227, tm_isdst=0)\n",
      "UTC时区的struct_time:\n",
      "time.struct_time(tm_year=2021, tm_mon=8, tm_mday=15, tm_hour=2, tm_min=21, tm_sec=32, tm_wday=6, tm_yday=227, tm_isdst=0)\n"
     ]
    }
   ],
   "source": [
    "print('本地时区的struct_time:\\n{}'.format(time.localtime()))\n",
    "print('UTC时区的struct_time:\\n{}'.format(time.gmtime()))"
   ]
  },
  {
   "cell_type": "markdown",
   "metadata": {},
   "source": [
    "## 其他用法--计时"
   ]
  },
  {
   "cell_type": "code",
   "execution_count": 8,
   "metadata": {},
   "outputs": [
    {
     "name": "stdout",
     "output_type": "stream",
     "text": [
      "3.0002732276916504\n"
     ]
    }
   ],
   "source": [
    "# 推迟指定的时间运行，单位为秒\n",
    "start = time.time()\n",
    "time.sleep(3)\n",
    "end = time.time()\n",
    "\n",
    "print(end-start)"
   ]
  },
  {
   "cell_type": "markdown",
   "metadata": {},
   "source": [
    "# Datetime\n",
    "+ datetime.datetime.now()：现在时间 精确到秒\n",
    "+ datetime.timedelta(days=1)：增加时间 可天数 可分钟"
   ]
  },
  {
   "cell_type": "code",
   "execution_count": 11,
   "metadata": {},
   "outputs": [
    {
     "name": "stdout",
     "output_type": "stream",
     "text": [
      "2021-08-15 10:25:52.848572\n",
      "2021-08-16 10:25:52.849569\n"
     ]
    }
   ],
   "source": [
    "import datetime\n",
    "print(datetime.datetime.now())\n",
    "print(datetime.datetime.now()+datetime.timedelta(days=1)) #明天时间"
   ]
  },
  {
   "cell_type": "markdown",
   "metadata": {},
   "source": [
    "# random\n",
    "+ random.random():大于0且小于1之间的小数\n",
    "+ random.randint(1, 3):大于等于1且小于等于3之间的整数\n",
    "+ random.randrange(1, 3):大于等于1且小于3之间的整数\n",
    "+ random.uniform(1, 3):大于1小于3的小数，如1.927109612082716\n",
    "+ random.choice([1, '23', [4, 5]]):列表内的任意一个元素，即1或者‘23’或者[4,5]\n",
    "+ random.sample([], n):列表元素任意n个元素的组合，示例n=2\n",
    "+ random.shuffle(l):打乱l的顺序,相当于\"洗牌\""
   ]
  },
  {
   "cell_type": "code",
   "execution_count": 12,
   "metadata": {},
   "outputs": [
    {
     "name": "stdout",
     "output_type": "stream",
     "text": [
      "0.3873731993965983\n"
     ]
    }
   ],
   "source": [
    "import random\n",
    "print(random.random())"
   ]
  },
  {
   "cell_type": "code",
   "execution_count": 13,
   "metadata": {},
   "outputs": [
    {
     "name": "stdout",
     "output_type": "stream",
     "text": [
      "['23', [4, 5]]\n"
     ]
    }
   ],
   "source": [
    "# random.sample([], n)，列表元素任意n个元素的组合，示例n=2\n",
    "print(random.sample([1, '23', [4, 5]], 2))"
   ]
  },
  {
   "cell_type": "code",
   "execution_count": 14,
   "metadata": {
    "scrolled": true
   },
   "outputs": [
    {
     "name": "stdout",
     "output_type": "stream",
     "text": [
      "[7, 9, 5, 1, 3]\n"
     ]
    }
   ],
   "source": [
    "lis = [1, 3, 5, 7, 9]\n",
    "# 打乱l的顺序,相当于\"洗牌\"\n",
    "random.shuffle(lis)\n",
    "print(lis)"
   ]
  },
  {
   "cell_type": "markdown",
   "metadata": {},
   "source": [
    "# os\n",
    "+ os.getcwd():获取当前工作目录，即当前python脚本工作的目录路径\n",
    "+ os.remove():删除一个文件\n",
    "+ os.rename(\"oldname\",\"newname\"):重命名文件/目录"
   ]
  },
  {
   "cell_type": "markdown",
   "metadata": {},
   "source": [
    "# sys\n",
    "+ sys.modules.keys():返回所有已经导入的模块列表\n",
    "+ sys.path：初始化时使用PYTHONPATH环境变量的值\n",
    "+ sys.version：获取Python解释程序的版本信息"
   ]
  },
  {
   "cell_type": "markdown",
   "metadata": {},
   "source": [
    "# matplotlib\n",
    "+ %matplotlib inline\n",
    "    + %matplotlib具体作用是当你调用matplotlib.pyplot的绘图函数plot()进行绘图的时候，或者生成一个figure画布的时候，可以直接在你的python console里面生成图像。\n",
    "    + 在使用jupyter notebook 或者 jupyter qtconsole的时候，才会经常用到%matplotlib\n",
    "+ ax.xaxis.set_ticks_position('top'):设置坐标轴上的数字显示的位置，top:显示在顶部  bottom:显示在底部,默认是none\n",
    "+ plt.xticks([0,1],[1,2],rotation=0):[0,1]代表x坐标轴的0和1位置，[1,2]代表0,1位置的显示lable，rotation代表lable显示的旋转角度。\n",
    "+ plt.legend():用于给图像加图例。图例是集中于地图一角或一侧的地图上各种符号和颜色所代表内容与指标的说明，有助于更好的认识地图。\n",
    "    + 详情见[此处]([https://www.cnblogs.com/lfri/p/12248629.html])"
   ]
  },
  {
   "cell_type": "code",
   "execution_count": 30,
   "metadata": {},
   "outputs": [],
   "source": [
    "#公用代码\n",
    "\n",
    "# 支持中文\n",
    "plt.rcParams['font.sans-serif'] = ['SimHei']  # 用来正常显示中文标签\n",
    "plt.rcParams['axes.unicode_minus'] = False  # 用来正常显示负号"
   ]
  },
  {
   "cell_type": "markdown",
   "metadata": {},
   "source": [
    " ## 条形图"
   ]
  },
  {
   "cell_type": "code",
   "execution_count": 29,
   "metadata": {},
   "outputs": [
    {
     "data": {
      "image/png": "[encoded data removed]",
      "text/plain": [
       "<Figure size 432x288 with 1 Axes>"
      ]
     },
     "metadata": {},
     "output_type": "display_data"
    }
   ],
   "source": [
    "import matplotlib.pyplot as plt \n",
    "from matplotlib.font_manager import FontProperties\n",
    "\n",
    "%matplotlib inline\n",
    "# FontProperties类用于存储和操作字体的属性\n",
    "# font = FontProperties(fname='E:\\\\5_python\\\\3_py_algorithm\\\\1_python基础\\\\heiti.ttc')\n",
    "\n",
    "# 支持中文\n",
    "plt.rcParams['font.sans-serif'] = ['SimHei']  # 用来正常显示中文标签\n",
    "plt.rcParams['axes.unicode_minus'] = False  # 用来正常显示负号\n",
    "\n",
    "#修改背景为条纹\n",
    "plt.style.use('ggplot')\n",
    "\n",
    "#数据设置\n",
    "classes = ['3班','4班','5班','6班']\n",
    "classes_index = range(len(classes))\n",
    "student_amounts = [66,55,45,70]\n",
    "\n",
    "# 画布设置\n",
    "fig = plt.figure()\n",
    "# 1,1,1表示一张画布切割成1行1列共一张图的第1个；2,2,1表示一张画布切割成2行2列共4张图的第一个（左上角）\n",
    "ax1 = fig.add_subplot(1, 1, 1)\n",
    "ax1.bar(classes_index, student_amounts, align='center', color='darkblue')\n",
    "ax1.xaxis.set_ticks_position('bottom')\n",
    "ax1.yaxis.set_ticks_position('left')\n",
    "\n",
    "plt.xticks(classes_index,\n",
    "           classes,\n",
    "           rotation=0,\n",
    "           fontsize=13)\n",
    "plt.xlabel('班级',fontsize=15)\n",
    "plt.ylabel('学生人数',  fontsize=15)\n",
    "plt.title('班级-学生人数',  fontsize=20)\n",
    "# 保存图片，bbox_inches='tight'去掉图形四周的空白\n",
    "# plt.savefig('classes_students.png?x-oss-process=style/watermark', dpi=400, bbox_inches='tight')\n",
    "plt.show()\n"
   ]
  },
  {
   "cell_type": "markdown",
   "metadata": {},
   "source": [
    "+ matplotlib.pyplot.bar(left, height, alpha=1, width=0.8, color=, edgecolor=, label=, lw=3)\n",
    "    + left：x轴的位置序列，一般采用range函数产生一个序列，但是有时候可以是字符串\n",
    "    + height：y轴的数值序列，也就是柱形图的高度，一般就是我们需要展示的数据\n",
    "    + alpha：透明度，值越小越透明\n",
    "    + width：为柱形图的宽度，一般这是为0.8即可\n",
    "    + color或facecolor：柱形图填充的颜色\n",
    "    + edgecolor：图形边缘颜色\n",
    "    + label：解释每个图像代表的含义,这个参数是为legend()函数做铺垫的，表示该次bar的标签\n",
    "    + linewidth or linewidths or lw：边缘or线的宽"
   ]
  },
  {
   "cell_type": "markdown",
   "metadata": {},
   "source": [
    "## 直方图\n",
    "+ matplotlib.pyplot.hist(x, bins=10, range=None, normed=False, weights=None, cumulative=False, bottom=None, histtype=u'bar', align=u'mid', orientation=u'vertical', rwidth=None, log=False, color=None, label=None, stacked=False, hold=None, **kwargs)\n",
    "    + x:这个参数是指定每个bin(箱子)分布的数据,对应x轴\n",
    "    + bins:这个参数指定bin(箱子)的个数,也就是总共有几条条状图\n",
    "    + normed:这个参数指定密度,也就是每个条状图的占比例比,默认为1\n",
    "    + facecolor: 直方图颜色\n",
    "    + edgecolor: 直方图边框颜色\n",
    "    + alpha: 透明度\n",
    "    + histtype: 直方图类型，‘bar’, ‘barstacked’, ‘step’, ‘stepfilled’"
   ]
  },
  {
   "cell_type": "code",
   "execution_count": 38,
   "metadata": {},
   "outputs": [
    {
     "data": {
      "image/png": "[encoded data removed]",
      "text/plain": [
       "<Figure size 432x288 with 2 Axes>"
      ]
     },
     "metadata": {},
     "output_type": "display_data"
    }
   ],
   "source": [
    "import numpy as np\n",
    "import matplotlib.pyplot as plt\n",
    "from matplotlib.font_manager import FontProperties\n",
    "%matplotlib inline\n",
    "\n",
    "# 支持中文\n",
    "plt.rcParams['font.sans-serif'] = ['SimHei']  # 用来正常显示中文标签\n",
    "plt.rcParams['axes.unicode_minus'] = False  # 用来正常显示负号\n",
    "\n",
    "# 修改背景为条纹\n",
    "plt.style.use('ggplot')\n",
    "\n",
    "mu1, mu2, sigma = 50, 100, 10\n",
    "# 构造均值为50的符合正态分布的数据\n",
    "x1 = mu1 + sigma * np.random.randn(10000)\n",
    "# 构造均值为100的符合正态分布的数据\n",
    "x2 = mu2 + sigma * np.random.randn(10000)\n",
    "\n",
    "fig = plt.figure()\n",
    "ax1 = fig.add_subplot(121)\n",
    "# bins=50表示每个变量的值分成50份，即会有50根柱子\n",
    "ax1.hist(x1, bins=50, color='darkgreen')\n",
    "\n",
    "ax2 = fig.add_subplot(122)\n",
    "ax2.hist(x2, bins=50, color='orange')\n",
    "\n",
    "fig.suptitle('两个正态分布',  fontweight='bold', fontsize=15)\n",
    "ax1.set_title('绿色的正态分布')\n",
    "ax2.set_title('橙色的正态分布')\n",
    "plt.show()\n"
   ]
  },
  {
   "cell_type": "markdown",
   "metadata": {},
   "source": [
    "## 折线图\n",
    "+ plt.plot(plot_data1, marker='o', color='red', linestyle='-', label='红实线')基本为所有常见属性\n",
    "    + 具体细节可见[此处]([https://blog.csdn.net/Lq_520/article/details/103554389])"
   ]
  },
  {
   "cell_type": "code",
   "execution_count": 41,
   "metadata": {},
   "outputs": [
    {
     "data": {
      "image/png": "[encoded data removed]",
      "text/plain": [
       "<Figure size 432x288 with 1 Axes>"
      ]
     },
     "metadata": {},
     "output_type": "display_data"
    }
   ],
   "source": [
    "import numpy as np\n",
    "from numpy.random import randn\n",
    "import matplotlib.pyplot as plt\n",
    "from matplotlib.font_manager import FontProperties\n",
    "%matplotlib inline\n",
    "\n",
    "# 修改背景为条纹\n",
    "plt.style.use('ggplot')\n",
    "\n",
    "np.random.seed(1)\n",
    "\n",
    "# 使用numpy的累加和，保证数据取值范围不会在（0，1）内波动\n",
    "plot_data1 = randn(40).cumsum()\n",
    "plot_data2 = randn(40).cumsum()\n",
    "plot_data3 = randn(40).cumsum()\n",
    "plot_data4 = randn(40).cumsum()\n",
    "\n",
    "plt.plot(plot_data1, marker='o', color='red', linestyle='-', label='红实线')\n",
    "plt.plot(plot_data2, marker='x', color='orange', linestyle='--', label='橙虚线')\n",
    "plt.plot(plot_data3, marker='*', color='yellow', linestyle='-.', label='黄点线')\n",
    "plt.plot(plot_data4, marker='s', color='green', linestyle=':', label='绿点图')\n",
    "\n",
    "# loc='best'给label自动选择最好的位置\n",
    "plt.legend(loc='best')\n",
    "plt.show()\n"
   ]
  },
  {
   "cell_type": "code",
   "execution_count": 43,
   "metadata": {},
   "outputs": [
    {
     "data": {
      "text/plain": [
       "array([ 1.62434536,  1.01258895,  0.4844172 , -0.58855142,  0.2768562 ,\n",
       "       -2.02468249, -0.27987073, -1.04107763, -0.72203853, -0.97140891,\n",
       "        0.49069903, -1.56944168, -1.89185888, -2.27591324, -1.1421438 ,\n",
       "       -2.24203506, -2.41446327, -3.29232169, -3.25010794, -2.66729273,\n",
       "       -3.76791191, -2.6231882 , -1.72159748, -1.21910314, -0.31824719,\n",
       "       -1.00197505, -1.12486527, -2.06063471, -2.32852279, -1.79816732,\n",
       "       -2.48982807, -2.8865816 , -3.5737543 , -4.41895994, -5.09020607,\n",
       "       -5.10287067, -6.22018102, -5.98576532, -4.32596314, -3.58391898])"
      ]
     },
     "execution_count": 43,
     "metadata": {},
     "output_type": "execute_result"
    }
   ],
   "source": [
    "plot_data1"
   ]
  },
  {
   "cell_type": "markdown",
   "metadata": {},
   "source": [
    "## 散点图+直线图\n",
    "+ matplotlib.pyplot.scatter(x, y, s=None, c=None, marker=None, cmap=None, norm=None, vmin=None, vmax=None, alpha=None, linewidths=None, verts=None, edgecolors=None, *, data=None, **kwargs)\n",
    "    + x，y：表示的是大小为(n,)的数组，也就是我们即将绘制散点图的数据点\n",
    "    + s:是一个实数或者是一个数组大小为(n,)，这个是一个可选的参数 表示点的大小\n",
    "    + c:表示的是颜色，也是一个可选项。默认是蓝色'b',表示的是标记的颜色\n",
    "    + marker:表示的是标记的样式，默认的是'o'。\n",
    "    + linewidths:也就是标记点的长度"
   ]
  },
  {
   "cell_type": "code",
   "execution_count": 45,
   "metadata": {},
   "outputs": [
    {
     "name": "stdout",
     "output_type": "stream",
     "text": [
      "[ 1  2  3  4  5  6  7  8  9 10 11 12 13 14 15 16 17 18 19]\n"
     ]
    }
   ],
   "source": [
    "import numpy as np\n",
    "from numpy.random import randn\n",
    "import matplotlib.pyplot as plt\n",
    "%matplotlib inline\n",
    "\n",
    "# 修改背景为条纹\n",
    "plt.style.use('ggplot')\n",
    "\n",
    "x = np.arange(1, 20, 1)\n",
    "print(x)"
   ]
  },
  {
   "cell_type": "code",
   "execution_count": 46,
   "metadata": {},
   "outputs": [
    {
     "name": "stdout",
     "output_type": "stream",
     "text": [
      "[  6.82815214  -7.00619177  20.4472371   25.01590721  30.02494339\n",
      "  45.00855949  42.16272141  62.77109774  71.64230566  97.3211192\n",
      " 126.30355467 137.08339248 165.03246473 189.128273   216.54794359\n",
      " 249.28753869 288.87335401 312.82689651 363.34415698]\n"
     ]
    }
   ],
   "source": [
    "# 拟合一条水平散点线\n",
    "np.random.seed(1)\n",
    "y_linear = x + 10 * np.random.randn(19)\n",
    "# 拟合一条x²的散点线\n",
    "y_quad = x**2 + 10 * np.random.randn(19)\n",
    "print(y_quad)"
   ]
  },
  {
   "cell_type": "code",
   "execution_count": 54,
   "metadata": {},
   "outputs": [
    {
     "data": {
      "image/png": "[encoded data removed]",
      "text/plain": [
       "<Figure size 432x288 with 2 Axes>"
      ]
     },
     "metadata": {},
     "output_type": "display_data"
    }
   ],
   "source": [
    "# s是散点大小\n",
    "fig = plt.figure()\n",
    "ax1 = fig.add_subplot(121)\n",
    "plt.scatter(x, y_linear, s=30, color='r', label='蓝点')\n",
    "plt.scatter(x, y_quad, s=100, color='b', label='红点')\n",
    "plt.legend(loc='best')\n",
    "\n",
    "ax2 = fig.add_subplot(122)\n",
    "plt.plot(x, y_linear, color='r')\n",
    "plt.plot(x, y_quad, color='b')\n",
    "\n",
    "# 限制x轴和y轴的范围取值\n",
    "plt.xlim(min(x) - 1, max(x) + 1)\n",
    "plt.ylim(min(y_quad) - 10, max(y_quad) + 10)\n",
    "fig.suptitle('散点图+直线图', fontsize=20)\n",
    "ax1.set_title('散点图')\n",
    "ax2.set_title('直线图')\n",
    "plt.show()"
   ]
  },
  {
   "cell_type": "markdown",
   "metadata": {},
   "source": [
    "## 饼图"
   ]
  },
  {
   "cell_type": "code",
   "execution_count": 58,
   "metadata": {},
   "outputs": [
    {
     "data": {
      "image/png": "[encoded data removed]",
      "text/plain": [
       "<Figure size 432x288 with 1 Axes>"
      ]
     },
     "metadata": {},
     "output_type": "display_data"
    }
   ],
   "source": [
    "import numpy as np\n",
    "import matplotlib.pyplot as plt\n",
    "from pylab import mpl\n",
    "mpl.rcParams['font.sans-serif'] = ['SimHei']\n",
    "\n",
    "fig, ax = plt.subplots(subplot_kw=dict(aspect=\"equal\"))\n",
    "\n",
    "recipe = ['优', '良', '轻度污染', '中度污染', '重度污染', '严重污染', '缺']\n",
    "\n",
    "data = [2, 49, 21, 9, 11, 6, 2]\n",
    "colors = ['lime', 'yellow', 'darkorange', 'red', 'purple', 'maroon', 'grey']\n",
    "wedges, texts, texts2 = ax.pie(data,\n",
    "                               wedgeprops=dict(width=0.5),\n",
    "                               startangle=40,\n",
    "                               colors=colors,\n",
    "                               autopct='%1.0f%%',\n",
    "                               pctdistance=0.8)\n",
    "plt.setp(texts2, size=14, weight=\"bold\")\n",
    "\n",
    "bbox_props = dict(boxstyle=\"square,pad=0.3\", fc=\"w\", ec=\"k\", lw=0.72)\n",
    "kw = dict(xycoords='data',\n",
    "          textcoords='data',\n",
    "          arrowprops=dict(arrowstyle=\"->\"),\n",
    "          bbox=None,\n",
    "          zorder=0,\n",
    "          va=\"center\")\n",
    "\n",
    "for i, p in enumerate(wedges):\n",
    "    ang = (p.theta2 - p.theta1) / 2. + p.theta1\n",
    "    y = np.sin(np.deg2rad(ang))\n",
    "    x = np.cos(np.deg2rad(ang))\n",
    "    horizontalalignment = {-1: \"right\", 1: \"left\"}[int(np.sign(x))]\n",
    "    connectionstyle = \"angle,angleA=0,angleB={}\".format(ang)\n",
    "    kw[\"arrowprops\"].update({\"connectionstyle\": connectionstyle})\n",
    "    ax.annotate(recipe[i],\n",
    "                xy=(x, y),\n",
    "                xytext=(1.25 * np.sign(x), 1.3 * y),\n",
    "                size=16,\n",
    "                horizontalalignment=horizontalalignment,\n",
    "                **kw)\n",
    "\n",
    "ax.set_title(\"饼图示例\")\n",
    "\n",
    "plt.show()\n",
    "# plt.savefig('jiaopie2.png?x-oss-process=style/watermark')"
   ]
  },
  {
   "cell_type": "markdown",
   "metadata": {},
   "source": [
    "## 箱型图\n",
    "+ 箱型图：又称为盒须图、盒式图、盒状图或箱线图，是一种用作显示一组数据分散情况资料的统计图（在数据分析中常用在异常值检测）\n",
    "    + 包含一组数据的：最大值、最小值、中位数、上四分位数（Q3）、下四分位数（Q1）、异常值"
   ]
  },
  {
   "cell_type": "code",
   "execution_count": 63,
   "metadata": {},
   "outputs": [
    {
     "data": {
      "image/png": "[encoded data removed]",
      "text/plain": [
       "<Figure size 720x288 with 1 Axes>"
      ]
     },
     "metadata": {
      "needs_background": "light"
     },
     "output_type": "display_data"
    }
   ],
   "source": [
    "import numpy as np\n",
    "import pandas as pd\n",
    "from numpy.random import randn\n",
    "import matplotlib.pyplot as plt\n",
    "\n",
    "%matplotlib inline\n",
    "df = pd.DataFrame(np.random.rand(10, 5), columns=['A', 'B', 'C', 'D', 'E'])\n",
    "plt.figure(figsize=(10, 4))\n",
    "# 创建图表、数据\n",
    "\n",
    "f = df.boxplot(\n",
    "    sym='*',  # 异常点形状，参考marker\n",
    "    vert=True,  # 是否垂直\n",
    "    whis=1.5,  # IQR，默认1.5，也可以设置区间比如[5,95]，代表强制上下边缘为数据95%和5%位置\n",
    "    patch_artist=True,  # 上下四分位框内是否填充，True为填充\n",
    "    meanline=False,\n",
    "    showmeans=True,  # 是否有均值线及其形状\n",
    "    showbox=True,  # 是否显示箱线\n",
    "    showcaps=True,  # 是否显示边缘线\n",
    "    showfliers=True,  # 是否显示异常值\n",
    "    notch=False,  # 中间箱体是否缺口\n",
    "    return_type='dict'  # 返回类型为字典\n",
    ")\n",
    "plt.title('boxplot')\n",
    "\n",
    "for box in f['boxes']:\n",
    "    box.set(color='b', linewidth=1)  # 箱体边框颜色\n",
    "    box.set(facecolor='b', alpha=0.5)  # 箱体内部填充颜色\n",
    "for whisker in f['whiskers']:\n",
    "    whisker.set(color='k', linewidth=0.5, linestyle='-')\n",
    "for cap in f['caps']:\n",
    "    cap.set(color='gray', linewidth=2)\n",
    "for median in f['medians']:\n",
    "    median.set(color='DarkBlue', linewidth=2)\n",
    "for flier in f['fliers']:\n",
    "    flier.set(marker='*', color='y', alpha=0.5)\n",
    "# boxes, 箱线\n",
    "# medians, 中位值的横线,\n",
    "# whiskers, 从box到error bar之间的竖线.\n",
    "# fliers, 异常值\n",
    "# caps, error bar横线\n",
    "# means, 均值的横线\n"
   ]
  }
 ],
 "metadata": {
  "kernelspec": {
   "display_name": "Python [conda env:Learn]",
   "language": "python",
   "name": "conda-env-Learn-py"
  },
  "language_info": {
   "codemirror_mode": {
    "name": "ipython",
    "version": 3
   },
   "file_extension": ".py",
   "mimetype": "text/x-python",
   "name": "python",
   "nbconvert_exporter": "python",
   "pygments_lexer": "ipython3",
   "version": "3.7.11"
  },
  "toc": {
   "base_numbering": 1,
   "nav_menu": {},
   "number_sections": true,
   "sideBar": true,
   "skip_h1_title": false,
   "title_cell": "Table of Contents",
   "title_sidebar": "Contents",
   "toc_cell": false,
   "toc_position": {},
   "toc_section_display": true,
   "toc_window_display": true
  }
 },
 "nbformat": 4,
 "nbformat_minor": 2
}
