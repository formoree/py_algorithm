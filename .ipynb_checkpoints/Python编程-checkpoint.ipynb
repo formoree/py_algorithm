{
 "cells": [
  {
   "cell_type": "markdown",
   "id": "98d58f72",
   "metadata": {},
   "source": [
    "## Think Python"
   ]
  },
  {
   "cell_type": "markdown",
   "id": "90b31ff8",
   "metadata": {},
   "source": [
    "### 3 函数"
   ]
  },
  {
   "cell_type": "code",
   "execution_count": 14,
   "id": "e4468095",
   "metadata": {},
   "outputs": [
    {
     "name": "stdout",
     "output_type": "stream",
     "text": [
      "      monty\n"
     ]
    }
   ],
   "source": [
    "#输出规定长度字符串\n",
    "def right_justify(s):\n",
    "    num = len(s)\n",
    "    i = 0\n",
    "    while i < 11-num :\n",
    "        s=' '+s\n",
    "        i+=1\n",
    "    print(s)\n",
    "\n",
    "right_justify('monty')"
   ]
  },
  {
   "cell_type": "markdown",
   "id": "0d49458e",
   "metadata": {},
   "source": [
    "### 4 交互设计"
   ]
  },
  {
   "cell_type": "code",
   "execution_count": null,
   "id": "aea0cd7b",
   "metadata": {},
   "outputs": [],
   "source": [
    "import turtle\n",
    "bob = turtle.Turtle()\n",
    "bob.fd(100)\n",
    "# mainloop函数告诉窗口等待用户做事情\n",
    "turtle.mainloop()"
   ]
  },
  {
   "cell_type": "code",
   "execution_count": null,
   "id": "dd7cbfdc",
   "metadata": {},
   "outputs": [],
   "source": []
  }
 ],
 "metadata": {
  "kernelspec": {
   "display_name": "Python 3",
   "language": "python",
   "name": "python3"
  },
  "language_info": {
   "codemirror_mode": {
    "name": "ipython",
    "version": 3
   },
   "file_extension": ".py",
   "mimetype": "text/x-python",
   "name": "python",
   "nbconvert_exporter": "python",
   "pygments_lexer": "ipython3",
   "version": "3.7.10"
  }
 },
 "nbformat": 4,
 "nbformat_minor": 5
}
